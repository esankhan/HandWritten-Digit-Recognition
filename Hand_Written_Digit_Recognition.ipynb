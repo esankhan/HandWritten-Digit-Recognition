{
  "nbformat": 4,
  "nbformat_minor": 0,
  "metadata": {
    "colab": {
      "name": "Hand-Written-Digit-Recognition.ipynb",
      "provenance": [],
      "collapsed_sections": [],
      "authorship_tag": "ABX9TyP8JOqH+wg1tgu+zMa2D7A7",
      "include_colab_link": true
    },
    "kernelspec": {
      "name": "python3",
      "display_name": "Python 3"
    },
    "accelerator": "GPU"
  },
  "cells": [
    {
      "cell_type": "markdown",
      "metadata": {
        "id": "view-in-github",
        "colab_type": "text"
      },
      "source": [
        "<a href=\"https://colab.research.google.com/github/esankhan/HandWritten-Digit-Recognition/blob/master/Hand_Written_Digit_Recognition.ipynb\" target=\"_parent\"><img src=\"https://colab.research.google.com/assets/colab-badge.svg\" alt=\"Open In Colab\"/></a>"
      ]
    },
    {
      "cell_type": "markdown",
      "metadata": {
        "id": "qiUA3X0FyVS3",
        "colab_type": "text"
      },
      "source": [
        "**Introduction**<br> In this project, We are going to build a Deep Neural Network Model to recognize handwritten digits.This model use<br>MNIST dataset for training."
      ]
    },
    {
      "cell_type": "code",
      "metadata": {
        "id": "bfXBL0HXy6iP",
        "colab_type": "code",
        "outputId": "335b7c48-858d-45a3-a7ee-bd70ece72a5e",
        "colab": {
          "base_uri": "https://localhost:8080/",
          "height": 81
        }
      },
      "source": [
        "# Importing required Python libraries.\n",
        "from numpy import random\n",
        "from keras.models import Sequential, load_model\n",
        "from keras.layers import Dense, Input, Flatten, Dropout, Activation,Convolution2D,MaxPooling2D\n",
        "from keras.utils import np_utils\n",
        "from keras import backend as keras_backend\n",
        "import numpy as np\n",
        "import matplotlib.pyplot as plt\n",
        "import matplotlib.cm as cm\n",
        "import time \n",
        "import cv2\n",
        "\n"
      ],
      "execution_count": 0,
      "outputs": [
        {
          "output_type": "stream",
          "text": [
            "Using TensorFlow backend.\n"
          ],
          "name": "stderr"
        },
        {
          "output_type": "display_data",
          "data": {
            "text/html": [
              "<p style=\"color: red;\">\n",
              "The default version of TensorFlow in Colab will soon switch to TensorFlow 2.x.<br>\n",
              "We recommend you <a href=\"https://www.tensorflow.org/guide/migrate\" target=\"_blank\">upgrade</a> now \n",
              "or ensure your notebook will continue to use TensorFlow 1.x via the <code>%tensorflow_version 1.x</code> magic:\n",
              "<a href=\"https://colab.research.google.com/notebooks/tensorflow_version.ipynb\" target=\"_blank\">more info</a>.</p>\n"
            ],
            "text/plain": [
              "<IPython.core.display.HTML object>"
            ]
          },
          "metadata": {
            "tags": []
          }
        }
      ]
    },
    {
      "cell_type": "code",
      "metadata": {
        "id": "x3_zygD_2Qu3",
        "colab_type": "code",
        "outputId": "356d6711-5321-4729-f525-12a313684d8d",
        "colab": {
          "base_uri": "https://localhost:8080/",
          "height": 52
        }
      },
      "source": [
        "#Loading dataset\n",
        "from keras.datasets import  mnist\n",
        "(X_train,y_train),(X_test,y_test) = mnist.load_data()"
      ],
      "execution_count": 0,
      "outputs": [
        {
          "output_type": "stream",
          "text": [
            "Downloading data from https://s3.amazonaws.com/img-datasets/mnist.npz\n",
            "11493376/11490434 [==============================] - 1s 0us/step\n"
          ],
          "name": "stdout"
        }
      ]
    },
    {
      "cell_type": "code",
      "metadata": {
        "id": "zJnPpOLU2xRg",
        "colab_type": "code",
        "outputId": "d83c0eea-1ff6-4087-f749-5febab5518aa",
        "colab": {
          "base_uri": "https://localhost:8080/",
          "height": 121
        }
      },
      "source": [
        "#Split\n",
        "print(\"No of samples in training set are: {}\".format(X_train.shape[0]))\n",
        "print(\"No of Samples in test set are: {}\".format(X_test.shape[0]))\n",
        "print('\\n')\n",
        "\n",
        "#Image rows and columns\n",
        "img_rows = X_train.shape[1]\n",
        "img_cols = X_train.shape[2]\n",
        "#No of classes\n",
        "no_classes = 10\n",
        "\n",
        "print(\"No of rows in images are: {}\".format(img_rows))\n",
        "print(\"No of columns in images are: \",format(img_cols))"
      ],
      "execution_count": 0,
      "outputs": [
        {
          "output_type": "stream",
          "text": [
            "No of samples in training set are: 60000\n",
            "No of Samples in test set are: 10000\n",
            "\n",
            "\n",
            "No of rows in images are: 28\n",
            "No of columns in images are:  28\n"
          ],
          "name": "stdout"
        }
      ]
    },
    {
      "cell_type": "markdown",
      "metadata": {
        "id": "91UuqWlo34ss",
        "colab_type": "text"
      },
      "source": [
        "**Visualising the Image**"
      ]
    },
    {
      "cell_type": "code",
      "metadata": {
        "id": "hO3VcwMj30tR",
        "colab_type": "code",
        "outputId": "a28ed228-2246-4aa9-92d6-9d40d0921145",
        "colab": {
          "base_uri": "https://localhost:8080/",
          "height": 283
        }
      },
      "source": [
        "plt.imshow(X_train[4],cmap=cm.binary)"
      ],
      "execution_count": 0,
      "outputs": [
        {
          "output_type": "execute_result",
          "data": {
            "text/plain": [
              "<matplotlib.image.AxesImage at 0x7f23810eb4e0>"
            ]
          },
          "metadata": {
            "tags": []
          },
          "execution_count": 4
        },
        {
          "output_type": "display_data",
          "data": {
            "image/png": "[encoded data removed]",
            "text/plain": [
              "<Figure size 432x288 with 1 Axes>"
            ]
          },
          "metadata": {
            "tags": []
          }
        }
      ]
    },
    {
      "cell_type": "code",
      "metadata": {
        "id": "KKCh9gNZ4HA3",
        "colab_type": "code",
        "outputId": "09be2074-230d-477a-d0ce-516ba30265ff",
        "colab": {
          "base_uri": "https://localhost:8080/",
          "height": 35
        }
      },
      "source": [
        "X_train = X_train.reshape(X_train.shape[0], img_rows, img_cols, 1)\n",
        "X_test = X_test.reshape(X_test.shape[0], img_rows, img_cols, 1)\n",
        "print(X_train.shape)"
      ],
      "execution_count": 0,
      "outputs": [
        {
          "output_type": "stream",
          "text": [
            "(60000, 28, 28, 1)\n"
          ],
          "name": "stdout"
        }
      ]
    },
    {
      "cell_type": "code",
      "metadata": {
        "id": "ItENjmRUCzGq",
        "colab_type": "code",
        "colab": {}
      },
      "source": [
        ""
      ],
      "execution_count": 0,
      "outputs": []
    },
    {
      "cell_type": "code",
      "metadata": {
        "id": "hw7_ixaT5KNn",
        "colab_type": "code",
        "colab": {}
      },
      "source": [
        "#Maping the values of 0-255(because MNIST dataset has greyscale images) to 0-1\n",
        "X_train = X_train.astype('float32')/255\n",
        "X_test = X_test.astype('float32')/255\n",
        "input_shape = (img_rows,img_cols,1)"
      ],
      "execution_count": 0,
      "outputs": []
    },
    {
      "cell_type": "code",
      "metadata": {
        "id": "3cxiGg1573zP",
        "colab_type": "code",
        "outputId": "e9a66f3c-496d-4ad2-d3fd-01a7a339e053",
        "colab": {
          "base_uri": "https://localhost:8080/",
          "height": 243
        }
      },
      "source": [
        "#Converting the target labels y_train and y_test into binary format so that\n",
        "# nueral network can perform mapping from input to output\n",
        "y_train = np_utils.to_categorical(y_train,no_classes)\n",
        "y_test = np_utils.to_categorical(y_test,no_classes)\n",
        "\n",
        "print(\"Binary form \",y_test,y_train)"
      ],
      "execution_count": 0,
      "outputs": [
        {
          "output_type": "stream",
          "text": [
            "Binary form  [[0. 0. 0. ... 1. 0. 0.]\n",
            " [0. 0. 1. ... 0. 0. 0.]\n",
            " [0. 1. 0. ... 0. 0. 0.]\n",
            " ...\n",
            " [0. 0. 0. ... 0. 0. 0.]\n",
            " [0. 0. 0. ... 0. 0. 0.]\n",
            " [0. 0. 0. ... 0. 0. 0.]] [[0. 0. 0. ... 0. 0. 0.]\n",
            " [1. 0. 0. ... 0. 0. 0.]\n",
            " [0. 0. 0. ... 0. 0. 0.]\n",
            " ...\n",
            " [0. 0. 0. ... 0. 0. 0.]\n",
            " [0. 0. 0. ... 0. 0. 0.]\n",
            " [0. 0. 0. ... 0. 1. 0.]]\n"
          ],
          "name": "stdout"
        }
      ]
    },
    {
      "cell_type": "markdown",
      "metadata": {
        "id": "lT1zfjRo8s_-",
        "colab_type": "text"
      },
      "source": [
        "**Implementing DNN**"
      ]
    },
    {
      "cell_type": "code",
      "metadata": {
        "id": "1SmIzNrH8pX6",
        "colab_type": "code",
        "colab": {}
      },
      "source": [
        "#Building the model \n",
        "def simple_model(input_shape,kernel_size,pool_size):\n",
        "    model = Sequential()\n",
        "    model.add(Convolution2D(32,\n",
        "                            kernel_size[0],\n",
        "                            padding='valid',\n",
        "                            input_shape=input_shape))\n",
        "    model.add(Activation('relu'))\n",
        "    model.add(MaxPooling2D(pool_size=pool_size))\n",
        "    model.add(Flatten())\n",
        "    model.add(Dense(128))\n",
        "    model.add(Activation('relu'))\n",
        "    model.add(Dense(no_classes))\n",
        "    model.add(Activation('softmax'))\n",
        "    model.compile(loss='categorical_crossentropy',\n",
        "                  optimizer='sgd',\n",
        "                  metrics=['accuracy'])\n",
        "    return model\n",
        "\n"
      ],
      "execution_count": 0,
      "outputs": []
    },
    {
      "cell_type": "code",
      "metadata": {
        "id": "kM0DxDKc8muw",
        "colab_type": "code",
        "outputId": "454a482b-be28-4f5e-dde0-aa982fe1d783",
        "colab": {
          "base_uri": "https://localhost:8080/",
          "height": 661
        }
      },
      "source": [
        "pool_size = (2,2)\n",
        "kernel_size = (3,3)\n",
        "\n",
        "# Build the model\n",
        "simple_dnn_model = simple_model(input_shape,kernel_size,pool_size)\n",
        "\n",
        "#Model Summary\n",
        "simple_dnn_model.summary()"
      ],
      "execution_count": 0,
      "outputs": [
        {
          "output_type": "stream",
          "text": [
            "WARNING:tensorflow:From /usr/local/lib/python3.6/dist-packages/keras/backend/tensorflow_backend.py:66: The name tf.get_default_graph is deprecated. Please use tf.compat.v1.get_default_graph instead.\n",
            "\n",
            "WARNING:tensorflow:From /usr/local/lib/python3.6/dist-packages/keras/backend/tensorflow_backend.py:541: The name tf.placeholder is deprecated. Please use tf.compat.v1.placeholder instead.\n",
            "\n",
            "WARNING:tensorflow:From /usr/local/lib/python3.6/dist-packages/keras/backend/tensorflow_backend.py:4432: The name tf.random_uniform is deprecated. Please use tf.random.uniform instead.\n",
            "\n",
            "WARNING:tensorflow:From /usr/local/lib/python3.6/dist-packages/keras/backend/tensorflow_backend.py:4267: The name tf.nn.max_pool is deprecated. Please use tf.nn.max_pool2d instead.\n",
            "\n",
            "WARNING:tensorflow:From /usr/local/lib/python3.6/dist-packages/keras/optimizers.py:793: The name tf.train.Optimizer is deprecated. Please use tf.compat.v1.train.Optimizer instead.\n",
            "\n",
            "WARNING:tensorflow:From /usr/local/lib/python3.6/dist-packages/keras/backend/tensorflow_backend.py:3576: The name tf.log is deprecated. Please use tf.math.log instead.\n",
            "\n",
            "Model: \"sequential_1\"\n",
            "_________________________________________________________________\n",
            "Layer (type)                 Output Shape              Param #   \n",
            "=================================================================\n",
            "conv2d_1 (Conv2D)            (None, 26, 26, 32)        320       \n",
            "_________________________________________________________________\n",
            "activation_1 (Activation)    (None, 26, 26, 32)        0         \n",
            "_________________________________________________________________\n",
            "max_pooling2d_1 (MaxPooling2 (None, 13, 13, 32)        0         \n",
            "_________________________________________________________________\n",
            "flatten_1 (Flatten)          (None, 5408)              0         \n",
            "_________________________________________________________________\n",
            "dense_1 (Dense)              (None, 128)               692352    \n",
            "_________________________________________________________________\n",
            "activation_2 (Activation)    (None, 128)               0         \n",
            "_________________________________________________________________\n",
            "dense_2 (Dense)              (None, 10)                1290      \n",
            "_________________________________________________________________\n",
            "activation_3 (Activation)    (None, 10)                0         \n",
            "=================================================================\n",
            "Total params: 693,962\n",
            "Trainable params: 693,962\n",
            "Non-trainable params: 0\n",
            "_________________________________________________________________\n"
          ],
          "name": "stdout"
        }
      ]
    },
    {
      "cell_type": "code",
      "metadata": {
        "id": "UDRK-jlBAY1B",
        "colab_type": "code",
        "outputId": "efe30ef4-4f2d-4980-9e2c-bbda7ac58977",
        "colab": {
          "base_uri": "https://localhost:8080/",
          "height": 921
        }
      },
      "source": [
        "#Training the model\n",
        "\n",
        "start = time.time()\n",
        "\n",
        "simple_dnn_model.fit(x=X_train,y=y_train,batch_size=128,epochs=15,verbose=1,validation_data=(X_test,y_test))\n",
        "\n",
        "end = time.time();\n",
        "elapsed = (end-start)/60\n",
        "\n",
        "print(\"training completed took {} mins\".format(elapsed))"
      ],
      "execution_count": 0,
      "outputs": [
        {
          "output_type": "stream",
          "text": [
            "WARNING:tensorflow:From /usr/local/lib/python3.6/dist-packages/tensorflow_core/python/ops/math_grad.py:1424: where (from tensorflow.python.ops.array_ops) is deprecated and will be removed in a future version.\n",
            "Instructions for updating:\n",
            "Use tf.where in 2.0, which has the same broadcast rule as np.where\n",
            "WARNING:tensorflow:From /usr/local/lib/python3.6/dist-packages/keras/backend/tensorflow_backend.py:1033: The name tf.assign_add is deprecated. Please use tf.compat.v1.assign_add instead.\n",
            "\n",
            "WARNING:tensorflow:From /usr/local/lib/python3.6/dist-packages/keras/backend/tensorflow_backend.py:1020: The name tf.assign is deprecated. Please use tf.compat.v1.assign instead.\n",
            "\n",
            "WARNING:tensorflow:From /usr/local/lib/python3.6/dist-packages/keras/backend/tensorflow_backend.py:3005: The name tf.Session is deprecated. Please use tf.compat.v1.Session instead.\n",
            "\n",
            "Train on 60000 samples, validate on 10000 samples\n",
            "Epoch 1/15\n",
            "WARNING:tensorflow:From /usr/local/lib/python3.6/dist-packages/keras/backend/tensorflow_backend.py:190: The name tf.get_default_session is deprecated. Please use tf.compat.v1.get_default_session instead.\n",
            "\n",
            "WARNING:tensorflow:From /usr/local/lib/python3.6/dist-packages/keras/backend/tensorflow_backend.py:197: The name tf.ConfigProto is deprecated. Please use tf.compat.v1.ConfigProto instead.\n",
            "\n",
            "WARNING:tensorflow:From /usr/local/lib/python3.6/dist-packages/keras/backend/tensorflow_backend.py:207: The name tf.global_variables is deprecated. Please use tf.compat.v1.global_variables instead.\n",
            "\n",
            "WARNING:tensorflow:From /usr/local/lib/python3.6/dist-packages/keras/backend/tensorflow_backend.py:216: The name tf.is_variable_initialized is deprecated. Please use tf.compat.v1.is_variable_initialized instead.\n",
            "\n",
            "WARNING:tensorflow:From /usr/local/lib/python3.6/dist-packages/keras/backend/tensorflow_backend.py:223: The name tf.variables_initializer is deprecated. Please use tf.compat.v1.variables_initializer instead.\n",
            "\n",
            "60000/60000 [==============================] - 17s 288us/step - loss: 0.8899 - acc: 0.7881 - val_loss: 0.3602 - val_acc: 0.8985\n",
            "Epoch 2/15\n",
            "60000/60000 [==============================] - 2s 36us/step - loss: 0.3347 - acc: 0.9047 - val_loss: 0.2834 - val_acc: 0.9205\n",
            "Epoch 3/15\n",
            "60000/60000 [==============================] - 2s 37us/step - loss: 0.2807 - acc: 0.9183 - val_loss: 0.2501 - val_acc: 0.9300\n",
            "Epoch 4/15\n",
            "60000/60000 [==============================] - 2s 37us/step - loss: 0.2476 - acc: 0.9282 - val_loss: 0.2221 - val_acc: 0.9366\n",
            "Epoch 5/15\n",
            "60000/60000 [==============================] - 2s 37us/step - loss: 0.2226 - acc: 0.9350 - val_loss: 0.2012 - val_acc: 0.9409\n",
            "Epoch 6/15\n",
            "60000/60000 [==============================] - 2s 36us/step - loss: 0.2033 - acc: 0.9401 - val_loss: 0.1857 - val_acc: 0.9459\n",
            "Epoch 7/15\n",
            "60000/60000 [==============================] - 2s 38us/step - loss: 0.1866 - acc: 0.9455 - val_loss: 0.1750 - val_acc: 0.9497\n",
            "Epoch 8/15\n",
            "60000/60000 [==============================] - 2s 37us/step - loss: 0.1730 - acc: 0.9492 - val_loss: 0.1623 - val_acc: 0.9528\n",
            "Epoch 9/15\n",
            "60000/60000 [==============================] - 2s 36us/step - loss: 0.1613 - acc: 0.9524 - val_loss: 0.1505 - val_acc: 0.9549\n",
            "Epoch 10/15\n",
            "60000/60000 [==============================] - 2s 36us/step - loss: 0.1507 - acc: 0.9553 - val_loss: 0.1456 - val_acc: 0.9575\n",
            "Epoch 11/15\n",
            "60000/60000 [==============================] - 2s 37us/step - loss: 0.1418 - acc: 0.9575 - val_loss: 0.1365 - val_acc: 0.9607\n",
            "Epoch 12/15\n",
            "60000/60000 [==============================] - 2s 36us/step - loss: 0.1337 - acc: 0.9612 - val_loss: 0.1313 - val_acc: 0.9612\n",
            "Epoch 13/15\n",
            "60000/60000 [==============================] - 2s 38us/step - loss: 0.1264 - acc: 0.9627 - val_loss: 0.1252 - val_acc: 0.9632\n",
            "Epoch 14/15\n",
            "60000/60000 [==============================] - 2s 38us/step - loss: 0.1198 - acc: 0.9643 - val_loss: 0.1226 - val_acc: 0.9636\n",
            "Epoch 15/15\n",
            "60000/60000 [==============================] - 2s 38us/step - loss: 0.1137 - acc: 0.9665 - val_loss: 0.1126 - val_acc: 0.9669\n",
            "training completed took 0.8105752189954122 mins\n"
          ],
          "name": "stdout"
        }
      ]
    },
    {
      "cell_type": "code",
      "metadata": {
        "id": "dfdx9OcwB4EF",
        "colab_type": "code",
        "outputId": "3359439b-a979-4190-fa13-77d0e6f37f32",
        "colab": {
          "base_uri": "https://localhost:8080/",
          "height": 52
        }
      },
      "source": [
        "#Evaluating the model\n",
        "score = simple_dnn_model.evaluate(x=X_test,y=y_test,verbose=0)\n",
        "print(\"total loss is {}\".format(score[0]))\n",
        "print(\"total accuracy is {}\".format(score[1]))"
      ],
      "execution_count": 0,
      "outputs": [
        {
          "output_type": "stream",
          "text": [
            "total loss is 0.11259113527983428\n",
            "total accuracy is 0.9669\n"
          ],
          "name": "stdout"
        }
      ]
    },
    {
      "cell_type": "markdown",
      "metadata": {
        "id": "cYNg-J89NMaC",
        "colab_type": "text"
      },
      "source": [
        "**Building a refined model**"
      ]
    },
    {
      "cell_type": "code",
      "metadata": {
        "id": "bdrgb2HINDD2",
        "colab_type": "code",
        "colab": {}
      },
      "source": [
        "def refined_model(input_shape,kernel_size,pool_size):\n",
        "    model = Sequential()\n",
        "    model.add(Convolution2D(32,\n",
        "                            kernel_size[0],\n",
        "                            padding='valid',\n",
        "                            input_shape=input_shape))\n",
        "    model.add(Activation('relu'))\n",
        "    model.add(Convolution2D(64,kernel_size[0]))\n",
        "    model.add(MaxPooling2D(pool_size=pool_size))\n",
        "    model.add(Dropout(0.25))\n",
        "    model.add(Flatten())\n",
        "    model.add(Dense(128))\n",
        "    model.add(Activation('relu'))\n",
        "    model.add(Dense(no_classes))\n",
        "    model.add(Activation('softmax'))\n",
        "    model.compile(loss='categorical_crossentropy',\n",
        "                  optimizer='adam',\n",
        "                  metrics=['accuracy'])\n",
        "    return model"
      ],
      "execution_count": 0,
      "outputs": []
    },
    {
      "cell_type": "code",
      "metadata": {
        "id": "s2WX2UR4O6HQ",
        "colab_type": "code",
        "outputId": "4070b078-1fdc-45be-de9e-f7524e983565",
        "colab": {
          "base_uri": "https://localhost:8080/",
          "height": 609
        }
      },
      "source": [
        "#Building the refined model\n",
        "refined_dnn_model = refined_model(input_shape,kernel_size,pool_size)\n",
        "\n",
        "refined_dnn_model.summary()"
      ],
      "execution_count": 0,
      "outputs": [
        {
          "output_type": "stream",
          "text": [
            "WARNING:tensorflow:From /usr/local/lib/python3.6/dist-packages/keras/backend/tensorflow_backend.py:148: The name tf.placeholder_with_default is deprecated. Please use tf.compat.v1.placeholder_with_default instead.\n",
            "\n",
            "WARNING:tensorflow:From /usr/local/lib/python3.6/dist-packages/keras/backend/tensorflow_backend.py:3733: calling dropout (from tensorflow.python.ops.nn_ops) with keep_prob is deprecated and will be removed in a future version.\n",
            "Instructions for updating:\n",
            "Please use `rate` instead of `keep_prob`. Rate should be set to `rate = 1 - keep_prob`.\n",
            "Model: \"sequential_2\"\n",
            "_________________________________________________________________\n",
            "Layer (type)                 Output Shape              Param #   \n",
            "=================================================================\n",
            "conv2d_2 (Conv2D)            (None, 26, 26, 32)        320       \n",
            "_________________________________________________________________\n",
            "activation_4 (Activation)    (None, 26, 26, 32)        0         \n",
            "_________________________________________________________________\n",
            "conv2d_3 (Conv2D)            (None, 24, 24, 64)        18496     \n",
            "_________________________________________________________________\n",
            "max_pooling2d_2 (MaxPooling2 (None, 12, 12, 64)        0         \n",
            "_________________________________________________________________\n",
            "dropout_1 (Dropout)          (None, 12, 12, 64)        0         \n",
            "_________________________________________________________________\n",
            "flatten_2 (Flatten)          (None, 9216)              0         \n",
            "_________________________________________________________________\n",
            "dense_3 (Dense)              (None, 128)               1179776   \n",
            "_________________________________________________________________\n",
            "activation_5 (Activation)    (None, 128)               0         \n",
            "_________________________________________________________________\n",
            "dense_4 (Dense)              (None, 10)                1290      \n",
            "_________________________________________________________________\n",
            "activation_6 (Activation)    (None, 10)                0         \n",
            "=================================================================\n",
            "Total params: 1,199,882\n",
            "Trainable params: 1,199,882\n",
            "Non-trainable params: 0\n",
            "_________________________________________________________________\n"
          ],
          "name": "stdout"
        }
      ]
    },
    {
      "cell_type": "code",
      "metadata": {
        "id": "jqnDZIKuPTpN",
        "colab_type": "code",
        "outputId": "a11c7752-e028-476c-a45e-1abc8fb87a9b",
        "colab": {
          "base_uri": "https://localhost:8080/",
          "height": 572
        }
      },
      "source": [
        "#Training new model\n",
        "\n",
        "start = time.time()\n",
        "\n",
        "refined_dnn_model.fit(x=X_train,y=y_train,\n",
        "                      batch_size=128,epochs=15,\n",
        "                      verbose=1\n",
        "                      ,validation_data=(X_test,y_test))\n",
        "\n",
        "end = time.time()\n",
        "elapsed = (end-start)/60\n",
        "print(\"Total time taken for training is: {}\".format(elapsed))"
      ],
      "execution_count": 0,
      "outputs": [
        {
          "output_type": "stream",
          "text": [
            "Train on 60000 samples, validate on 10000 samples\n",
            "Epoch 1/15\n",
            "60000/60000 [==============================] - 5s 87us/step - loss: 0.1638 - acc: 0.9508 - val_loss: 0.0499 - val_acc: 0.9827\n",
            "Epoch 2/15\n",
            "60000/60000 [==============================] - 5s 77us/step - loss: 0.0481 - acc: 0.9857 - val_loss: 0.0399 - val_acc: 0.9871\n",
            "Epoch 3/15\n",
            "60000/60000 [==============================] - 5s 77us/step - loss: 0.0301 - acc: 0.9908 - val_loss: 0.0489 - val_acc: 0.9854\n",
            "Epoch 4/15\n",
            "60000/60000 [==============================] - 5s 75us/step - loss: 0.0220 - acc: 0.9927 - val_loss: 0.0382 - val_acc: 0.9878\n",
            "Epoch 5/15\n",
            "60000/60000 [==============================] - 5s 77us/step - loss: 0.0181 - acc: 0.9941 - val_loss: 0.0378 - val_acc: 0.9884\n",
            "Epoch 6/15\n",
            "60000/60000 [==============================] - 5s 76us/step - loss: 0.0131 - acc: 0.9958 - val_loss: 0.0424 - val_acc: 0.9871\n",
            "Epoch 7/15\n",
            "60000/60000 [==============================] - 5s 78us/step - loss: 0.0107 - acc: 0.9964 - val_loss: 0.0480 - val_acc: 0.9874\n",
            "Epoch 8/15\n",
            "60000/60000 [==============================] - 5s 77us/step - loss: 0.0115 - acc: 0.9961 - val_loss: 0.0483 - val_acc: 0.9882\n",
            "Epoch 9/15\n",
            "60000/60000 [==============================] - 5s 77us/step - loss: 0.0078 - acc: 0.9974 - val_loss: 0.0516 - val_acc: 0.9884\n",
            "Epoch 10/15\n",
            "60000/60000 [==============================] - 5s 76us/step - loss: 0.0086 - acc: 0.9970 - val_loss: 0.0420 - val_acc: 0.9904\n",
            "Epoch 11/15\n",
            "60000/60000 [==============================] - 5s 77us/step - loss: 0.0069 - acc: 0.9978 - val_loss: 0.0428 - val_acc: 0.9903\n",
            "Epoch 12/15\n",
            "60000/60000 [==============================] - 5s 77us/step - loss: 0.0052 - acc: 0.9984 - val_loss: 0.0447 - val_acc: 0.9886\n",
            "Epoch 13/15\n",
            "60000/60000 [==============================] - 5s 77us/step - loss: 0.0090 - acc: 0.9971 - val_loss: 0.0496 - val_acc: 0.9894\n",
            "Epoch 14/15\n",
            "60000/60000 [==============================] - 5s 77us/step - loss: 0.0053 - acc: 0.9983 - val_loss: 0.0555 - val_acc: 0.9884\n",
            "Epoch 15/15\n",
            "60000/60000 [==============================] - 5s 76us/step - loss: 0.0053 - acc: 0.9984 - val_loss: 0.0513 - val_acc: 0.9892\n",
            "Total time taken for training is: 1.165447731812795\n"
          ],
          "name": "stdout"
        }
      ]
    },
    {
      "cell_type": "code",
      "metadata": {
        "id": "e1itYSa9QTwx",
        "colab_type": "code",
        "outputId": "813a2b65-9b61-42cb-b844-1d7da940e112",
        "colab": {
          "base_uri": "https://localhost:8080/",
          "height": 52
        }
      },
      "source": [
        "#Evaluating the new  model\n",
        "score = refined_dnn_model.evaluate(x=X_test,y=y_test,verbose=0)\n",
        "print(\"total loss is {}\".format(score[0]))\n",
        "print(\"total accuracy is {}\".format(score[1]))"
      ],
      "execution_count": 0,
      "outputs": [
        {
          "output_type": "stream",
          "text": [
            "total loss is 0.05133564437640794\n",
            "total accuracy is 0.9892\n"
          ],
          "name": "stdout"
        }
      ]
    },
    {
      "cell_type": "markdown",
      "metadata": {
        "id": "TcTDBad-Q4vq",
        "colab_type": "text"
      },
      "source": [
        "**Importing Images from folder**"
      ]
    },
    {
      "cell_type": "code",
      "metadata": {
        "id": "b3HWAVQkQwh2",
        "colab_type": "code",
        "outputId": "2d339e69-52e7-45ad-d350-533335af2caf",
        "colab": {
          "base_uri": "https://localhost:8080/",
          "height": 124
        }
      },
      "source": [
        "from google.colab import drive\n",
        "drive.mount('/content/drive')"
      ],
      "execution_count": 0,
      "outputs": [
        {
          "output_type": "stream",
          "text": [
            "Go to this URL in a browser: https://accounts.google.com/o/oauth2/auth?client_id=947318989803-6bn6qk8qdgf4n4g3pfee6491hc0brc4i.apps.googleusercontent.com&redirect_uri=urn%3aietf%3awg%3aoauth%3a2.0%3aoob&response_type=code&scope=email%20https%3a%2f%2fwww.googleapis.com%2fauth%2fdocs.test%20https%3a%2f%2fwww.googleapis.com%2fauth%2fdrive%20https%3a%2f%2fwww.googleapis.com%2fauth%2fdrive.photos.readonly%20https%3a%2f%2fwww.googleapis.com%2fauth%2fpeopleapi.readonly\n",
            "\n",
            "Enter your authorization code:\n",
            "··········\n",
            "Mounted at /content/drive\n"
          ],
          "name": "stdout"
        }
      ]
    },
    {
      "cell_type": "code",
      "metadata": {
        "id": "RBx-SSF8RWG2",
        "colab_type": "code",
        "outputId": "27424faf-9838-4885-de0a-87ec57fc07e6",
        "colab": {
          "base_uri": "https://localhost:8080/",
          "height": 35
        }
      },
      "source": [
        "import os,os.path\n",
        "imgs = []\n",
        "path = \"/content/drive/My Drive/Colab Notebooks/data/images\"\n",
        "count=0\n",
        "for f in os.listdir(path):\n",
        "    imgs.append(cv2.imread(os.path.join(path,f)))\n",
        "    count+=1\n",
        "print(\"Successfully loaded {} images\".format(count))"
      ],
      "execution_count": 0,
      "outputs": [
        {
          "output_type": "stream",
          "text": [
            "Successfully loaded 11 images\n"
          ],
          "name": "stdout"
        }
      ]
    },
    {
      "cell_type": "markdown",
      "metadata": {
        "id": "nJFzExBdSHaa",
        "colab_type": "text"
      },
      "source": [
        "**Preprocessing the images**<br>"
      ]
    },
    {
      "cell_type": "code",
      "metadata": {
        "id": "iO0crzRfSEQ1",
        "colab_type": "code",
        "outputId": "314e9596-13d0-472e-e8b6-0478551c1c13",
        "colab": {
          "base_uri": "https://localhost:8080/",
          "height": 35
        }
      },
      "source": [
        "X_pred = []\n",
        "\n",
        "for img in imgs:\n",
        "    #Converting color image to rgb\n",
        "    gray = cv2.cvtColor(img,cv2.COLOR_BGR2GRAY)\n",
        "    #Inverting black\n",
        "    invert_gray = 255-gray\n",
        "    #Resizing the images to 28*28\n",
        "    resized = cv2.resize(invert_gray,(28,28))\n",
        "    #Converting the images to 28*28*1 as same as input_shape\n",
        "    resized = np.asarray(resized)\n",
        "    resized = resized.reshape(28,28,1)\n",
        "    resized = resized/255\n",
        "    X_pred.append(resized)\n",
        "\n",
        "X_pred = np.asarray(X_pred)\n",
        "print(X_pred.shape)"
      ],
      "execution_count": 0,
      "outputs": [
        {
          "output_type": "stream",
          "text": [
            "(11, 28, 28, 1)\n"
          ],
          "name": "stdout"
        }
      ]
    },
    {
      "cell_type": "code",
      "metadata": {
        "id": "Y7JgJ3SXSpZJ",
        "colab_type": "code",
        "outputId": "e822dade-0230-454a-9778-de0fc5f37c9c",
        "colab": {
          "base_uri": "https://localhost:8080/",
          "height": 1000
        }
      },
      "source": [
        "# Predict the output\n",
        "proba = refined_dnn_model.predict(X_pred)\n",
        "# Convert the predicted output to respective integer number\n",
        "answers = proba.argmax(-1)\n",
        "\n",
        "#plot the image and the predicted number\n",
        "i=0\n",
        "for img in imgs:\n",
        "    plt.figure()\n",
        "    plt.imshow(img, cmap=cm.binary)\n",
        "    plt.suptitle(\"The predicted digit is : \" + str(answers[i]))\n",
        "    i+=1"
      ],
      "execution_count": 0,
      "outputs": [
        {
          "output_type": "display_data",
          "data": {
            "image/png": "[encoded data removed]",
            "text/plain": [
              "<Figure size 432x288 with 1 Axes>"
            ]
          },
          "metadata": {
            "tags": []
          }
        },
        {
          "output_type": "display_data",
          "data": {
            "image/png": "[encoded data removed]",
            "text/plain": [
              "<Figure size 432x288 with 1 Axes>"
            ]
          },
          "metadata": {
            "tags": []
          }
        },
        {
          "output_type": "display_data",
          "data": {
            "image/png": "[encoded data removed]",
            "text/plain": [
              "<Figure size 432x288 with 1 Axes>"
            ]
          },
          "metadata": {
            "tags": []
          }
        },
        {
          "output_type": "display_data",
          "data": {
            "image/png": "[encoded data removed]",
            "text/plain": [
              "<Figure size 432x288 with 1 Axes>"
            ]
          },
          "metadata": {
            "tags": []
          }
        },
        {
          "output_type": "display_data",
          "data": {
            "image/png": "[encoded data removed]",
            "text/plain": [
              "<Figure size 432x288 with 1 Axes>"
            ]
          },
          "metadata": {
            "tags": []
          }
        },
        {
          "output_type": "display_data",
          "data": {
            "image/png": "[encoded data removed]",
            "text/plain": [
              "<Figure size 432x288 with 1 Axes>"
            ]
          },
          "metadata": {
            "tags": []
          }
        },
        {
          "output_type": "display_data",
          "data": {
            "image/png": "[encoded data removed]",
            "text/plain": [
              "<Figure size 432x288 with 1 Axes>"
            ]
          },
          "metadata": {
            "tags": []
          }
        },
        {
          "output_type": "display_data",
          "data": {
            "image/png": "[encoded data removed]",
            "text/plain": [
              "<Figure size 432x288 with 1 Axes>"
            ]
          },
          "metadata": {
            "tags": []
          }
        },
        {
          "output_type": "display_data",
          "data": {
            "image/png": "[encoded data removed]",
            "text/plain": [
              "<Figure size 432x288 with 1 Axes>"
            ]
          },
          "metadata": {
            "tags": []
          }
        },
        {
          "output_type": "display_data",
          "data": {
            "image/png": "[encoded data removed]",
            "text/plain": [
              "<Figure size 432x288 with 1 Axes>"
            ]
          },
          "metadata": {
            "tags": []
          }
        },
        {
          "output_type": "display_data",
          "data": {
            "image/png": "[encoded data removed]",
            "text/plain": [
              "<Figure size 432x288 with 1 Axes>"
            ]
          },
          "metadata": {
            "tags": []
          }
        }
      ]
    },
    {
      "cell_type": "code",
      "metadata": {
        "id": "8QsuHIExVRnz",
        "colab_type": "code",
        "colab": {}
      },
      "source": [
        ""
      ],
      "execution_count": 0,
      "outputs": []
    }
  ]
}